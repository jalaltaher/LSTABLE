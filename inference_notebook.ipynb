{
 "cells": [
  {
   "cell_type": "code",
   "execution_count": 1,
   "id": "aba88807",
   "metadata": {},
   "outputs": [
    {
     "name": "stdout",
     "output_type": "stream",
     "text": [
      "cwd: c:\\Users\\Jalal\\Desktop\\Simulations_DJM\\lstable_project\\LSTABLE\n",
      "Import done\n",
      "A\n"
     ]
    }
   ],
   "source": [
    "import sys\n",
    "import os\n",
    "import importlib\n",
    "%load_ext autoreload\n",
    "%autoreload 2\n",
    "\n",
    "\n",
    "# Add the parent directory (LSTABLE) to sys.path\n",
    "sys.path.append(os.path.abspath(os.path.join(os.getcwd(), \"..\")))\n",
    "\n",
    "\n",
    "\n",
    "# Now you can import from the inference module\n",
    "from inference.parameterscalibration import *\n",
    "from inference.spectralestimator import *\n",
    "from inference.euleradaptation import *\n",
    "from inference.displaymethods import *\n",
    "\n",
    "\n",
    "\n",
    "from lstable.CTS_process import *\n",
    "from lstable.CTS_distribution import *"
   ]
  },
  {
   "cell_type": "code",
   "execution_count": null,
   "id": "4a1bfbf0",
   "metadata": {},
   "outputs": [],
   "source": []
  },
  {
   "cell_type": "code",
   "execution_count": 2,
   "id": "8f3b3d42",
   "metadata": {},
   "outputs": [],
   "source": [
    "# Tempered Stable Increment generation\n",
    "\n",
    "def tempered_stable(n,Delta,alpha,P,Q,A,B,drift,c,N,loading_bar,method='bm'):\n",
    "    #increments = [tempered_stable_process_increments(n,Delta,drift,alpha,P,Q,A,B,c,loading_bar, method) for _ in range(N)]\n",
    "    increments = [increments_CTS_generator(\n",
    "            n,\n",
    "            Delta,\n",
    "            alpha,\n",
    "            P,\n",
    "            Q,\n",
    "            A,\n",
    "            B,\n",
    "            drift,\n",
    "            c,\n",
    "            loading_bar\n",
    "        ) for _ in range(N)]\n",
    "    return np.array(increments)\n",
    "    "
   ]
  },
  {
   "cell_type": "code",
   "execution_count": 3,
   "id": "49934499",
   "metadata": {},
   "outputs": [],
   "source": [
    "# Global simulation parameters \n",
    "n_tab=[5]\n",
    "Delta_tab=[0.1,1]\n",
    "N=2\n",
    "P=1\n",
    "Q=2\n",
    "A,B=1,1\n",
    "drift=0"
   ]
  },
  {
   "cell_type": "code",
   "execution_count": 4,
   "id": "1b7aec2a",
   "metadata": {},
   "outputs": [],
   "source": [
    "# FV Tempered Stable Process inference \n",
    "c=0.0\n",
    "title='tempered stable FV'\n",
    "selection_level=3\n",
    "alpha=0.7\n",
    "kappa_tab=np.linspace(0,2,20)\n",
    "kappa_fix=[]"
   ]
  },
  {
   "cell_type": "code",
   "execution_count": null,
   "id": "e872d3bb",
   "metadata": {},
   "outputs": [
    {
     "name": "stdout",
     "output_type": "stream",
     "text": [
      "--------------------\n",
      "Computation for n=5 and Delta=0.1\n",
      " Increments generation\n"
     ]
    },
    {
     "name": "stderr",
     "output_type": "stream",
     "text": [
      "100%|██████████| 5/5 [00:00<00:00, 97.14it/s]\n",
      "100%|██████████| 5/5 [00:00<00:00, 116.75it/s]\n"
     ]
    },
    {
     "name": "stdout",
     "output_type": "stream",
     "text": [
      " Risk computation\n",
      "########## tempered stable FV estimation ##############\n",
      "Initilizing memory\n",
      "Estimator computation\n",
      " Estimator 1/2\n",
      "     Increment computation\n",
      "     empirical cf computation\n",
      "     kappa selection\n",
      "     Fourier inversion\n",
      "     computation with fixed kappa: Disregarded\n",
      " Estimator 2/2\n",
      "     Increment computation\n",
      "     empirical cf computation\n",
      "     kappa selection\n",
      "     Fourier inversion\n",
      "     computation with fixed kappa: Disregarded\n",
      "Quadratic error for n=5, Delta=0.1\n",
      "         mean error:2.2543 / mean std:1.9298\n",
      "----------------------------------------------------\n",
      " CSV table setup\n",
      " CSV file created\n",
      "--------------------\n",
      "Computation for n=5 and Delta=1\n",
      " Increments generation\n"
     ]
    },
    {
     "name": "stderr",
     "output_type": "stream",
     "text": [
      "100%|██████████| 5/5 [00:06<00:00,  1.30s/it]\n",
      "100%|██████████| 5/5 [00:44<00:00,  8.92s/it]\n"
     ]
    },
    {
     "name": "stdout",
     "output_type": "stream",
     "text": [
      " Risk computation\n",
      "########## tempered stable FV estimation ##############\n",
      "Initilizing memory\n",
      "Estimator computation\n",
      " Estimator 1/2\n",
      "     Increment computation\n",
      "     empirical cf computation\n",
      "     kappa selection\n",
      "     Fourier inversion\n",
      "     computation with fixed kappa: Disregarded\n",
      " Estimator 2/2\n",
      "     Increment computation\n",
      "     empirical cf computation\n",
      "     kappa selection\n",
      "     Fourier inversion\n",
      "     computation with fixed kappa: Disregarded\n",
      "Quadratic error for n=5, Delta=1\n",
      "         mean error:0.2873 / mean std:0.0779\n",
      "----------------------------------------------------\n",
      " CSV table setup\n",
      " CSV file created\n"
     ]
    }
   ],
   "source": [
    "csv_path = os.path.join('inference_results_csv', 'RiskTableFV.csv')\n",
    "with open(csv_path, 'a', newline='') as f:\n",
    "    writer = csv.writer(f)\n",
    "    writer.writerows([[\"process\",\"n\",\"Delta\",\"alpha\",\"P\",\"Q\",\"A\",\"B\",\"kappa_mean\",\"kappa_std\",\"risk_mean\",\"risk_std\"]])\n",
    "for n in n_tab:\n",
    "    for Delta in Delta_tab:\n",
    "        print(\"-\"*20)\n",
    "        print(\"Computation for n={} and Delta={}\".format(n,Delta))\n",
    "        print(\" Increments generation\")\n",
    "        incr_tab=tempered_stable(n,Delta,alpha,P,Q,A,B,drift,c,N,True,method='bm')\n",
    "        a,b=density_bound(Delta,title)\n",
    "        x_grid=np.linspace(a,b,1000)\n",
    "        true_density = CTS_density(x_grid,alpha,P*Delta,Q*Delta,A,B, adaptive_bound=True)\n",
    "        M,delta= bound_cf(Delta)\n",
    "        u_grid=np.arange(-M,M,delta)#np.linspace(-M,M,nM)\n",
    "        th_cf=CTS_characteristic_function(u_grid, alpha, Delta*P, Delta*Q, A, B)\n",
    "        print(\" Risk computation\")\n",
    "        adt_risk_mean,adt_risk_std,risk_mean,risk_std,adt_kappa_mean,adt_kappa_std= display_function(title,incr_tab,x_grid,true_density,th_cf,u_grid,n,Delta,N,kappa_tab,selection_level)\n",
    "        print(\" CSV table setup\")\n",
    "        csv_path = os.path.join('inference_results_csv', 'RiskTableFV.csv')\n",
    "        with open(csv_path, 'a', newline='') as f:\n",
    "            writer = csv.writer(f)\n",
    "            writer.writerows([[\"process\",\"n\",\"Delta\",\"alpha\",\"P\",\"Q\",\"A\",\"B\",\"kappa_mean\",\"kappa_std\",\"risk_mean\",\"risk_std\"]])\n",
    "            writer.writerows([[title,n,Delta,alpha,P,Q,A,B,adt_kappa_mean,adt_kappa_std,adt_risk_mean,adt_risk_std]])\n",
    "\n",
    "        print(\" CSV file created\")"
   ]
  },
  {
   "cell_type": "code",
   "execution_count": 6,
   "id": "55d9bd0b",
   "metadata": {},
   "outputs": [],
   "source": [
    "# Cauchy Tempered stable\n",
    "c=5\n",
    "title='tempered stable Cauchy'\n",
    "selection_level=3\n",
    "alpha=1.1 #alpha != 1\n",
    "kappa_tab=np.linspace(0,2,20)\n",
    "kappa_fix=[]\n"
   ]
  },
  {
   "cell_type": "code",
   "execution_count": null,
   "id": "7f21ea1c",
   "metadata": {},
   "outputs": [
    {
     "name": "stdout",
     "output_type": "stream",
     "text": [
      "--------------------\n",
      "Computation for n=5 and Delta=0.1\n",
      " Increments generation\n"
     ]
    },
    {
     "name": "stderr",
     "output_type": "stream",
     "text": [
      "100%|██████████| 5/5 [00:00<00:00,  6.27it/s]\n",
      "100%|██████████| 5/5 [00:00<00:00, 19.67it/s]\n"
     ]
    },
    {
     "name": "stdout",
     "output_type": "stream",
     "text": [
      " Risk computation\n",
      "########## tempered stable Cauchy estimation ##############\n",
      "Initilizing memory\n",
      "Estimator computation\n",
      " Estimator 1/2\n",
      "     Increment computation\n",
      "     empirical cf computation\n",
      "     kappa selection\n",
      "     Fourier inversion\n",
      "     computation with fixed kappa: Disregarded\n",
      " Estimator 2/2\n",
      "     Increment computation\n",
      "     empirical cf computation\n",
      "     kappa selection\n",
      "     Fourier inversion\n",
      "     computation with fixed kappa: Disregarded\n",
      "Quadratic error for n=5, Delta=0.1\n",
      "         mean error:0.6976 / mean std:0.2500\n",
      "----------------------------------------------------\n",
      " CSV table setup\n",
      "--------------------\n",
      "Computation for n=5 and Delta=1\n",
      " Increments generation\n"
     ]
    },
    {
     "name": "stderr",
     "output_type": "stream",
     "text": [
      "100%|██████████| 5/5 [00:00<00:00, 376.76it/s]\n",
      "100%|██████████| 5/5 [00:00<00:00, 164.11it/s]"
     ]
    },
    {
     "name": "stdout",
     "output_type": "stream",
     "text": [
      " Risk computation\n",
      "########## tempered stable Cauchy estimation ##############\n",
      "Initilizing memory\n",
      "Estimator computation\n",
      " Estimator 1/2\n",
      "     Increment computation\n",
      "     empirical cf computation\n",
      "     kappa selection\n"
     ]
    },
    {
     "name": "stderr",
     "output_type": "stream",
     "text": [
      "\n"
     ]
    },
    {
     "name": "stdout",
     "output_type": "stream",
     "text": [
      "     Fourier inversion\n",
      "     computation with fixed kappa: Disregarded\n",
      " Estimator 2/2\n",
      "     Increment computation\n",
      "     empirical cf computation\n",
      "     kappa selection\n",
      "     Fourier inversion\n",
      "     computation with fixed kappa: Disregarded\n",
      "Quadratic error for n=5, Delta=1\n",
      "         mean error:0.6165 / mean std:0.0057\n",
      "----------------------------------------------------\n",
      " CSV table setup\n"
     ]
    }
   ],
   "source": [
    "csv_path = os.path.join('inference_results_csv', 'RiskTableCauchy.csv')\n",
    "with open(csv_path, 'a', newline='') as f:\n",
    "    writer = csv.writer(f)\n",
    "    writer.writerows([[\"process\",\"n\",\"Delta\",\"alpha\",\"P\",\"Q\",\"A\",\"B\",\"kappa_mean\",\"kappa_std\",\"risk_mean\",\"risk_std\"]])\n",
    "for n in n_tab:\n",
    "    for Delta in Delta_tab:\n",
    "        print(\"-\"*20)\n",
    "        print(\"Computation for n={} and Delta={}\".format(n,Delta))\n",
    "        print(\" Increments generation\")\n",
    "        incr_tab=tempered_stable(n,Delta,alpha,P,Q,A,B,drift,c,N,True,method='bm')\n",
    "        a,b=density_bound(Delta,title)\n",
    "        x_grid=np.linspace(a,b,1000)\n",
    "        true_density = CTS_density(x_grid,alpha,P*Delta,Q*Delta,A,B, adaptive_bound=True)\n",
    "        M,delta= bound_cf(Delta)\n",
    "        u_grid=np.arange(-M,M,delta)#np.linspace(-M,M,nM)\n",
    "        th_cf=CTS_characteristic_function(u_grid, alpha, Delta*P, Delta*Q, A, B)\n",
    "        print(\" Risk computation\")\n",
    "        adt_risk_mean,adt_risk_std,risk_mean,risk_std,adt_kappa_mean,adt_kappa_std= display_function(title,incr_tab,x_grid,true_density,th_cf,u_grid,n,Delta,N,kappa_tab,selection_level)\n",
    "        print(\" CSV table setup\")\n",
    "        with open(csv_path, 'a', newline='') as f:\n",
    "            writer = csv.writer(f)\n",
    "            writer.writerows([[title,n,Delta,alpha,P,Q,A,B,adt_kappa_mean,adt_kappa_std,adt_risk_mean,adt_risk_std]])\n"
   ]
  },
  {
   "cell_type": "code",
   "execution_count": 11,
   "id": "bacea920",
   "metadata": {},
   "outputs": [],
   "source": [
    "title='tempered stable IV'\n",
    "c=5\n",
    "selection_level=3\n",
    "alpha=1.7 #alpha != 1\n",
    "kappa_tab=np.linspace(0,2,20)\n",
    "kappa_fix=[]"
   ]
  },
  {
   "cell_type": "code",
   "execution_count": null,
   "id": "366e30ba",
   "metadata": {},
   "outputs": [
    {
     "name": "stdout",
     "output_type": "stream",
     "text": [
      "--------------------\n",
      "Computation for n=5 and Delta=0.1\n",
      " Increments generation\n"
     ]
    },
    {
     "name": "stderr",
     "output_type": "stream",
     "text": [
      "100%|██████████| 5/5 [00:00<00:00,  6.42it/s]\n",
      "100%|██████████| 5/5 [00:01<00:00,  4.45it/s]\n"
     ]
    },
    {
     "name": "stdout",
     "output_type": "stream",
     "text": [
      " Risk computation\n",
      "########## tempered stable IV estimation ##############\n",
      "Initilizing memory\n",
      "Estimator computation\n",
      " Estimator 1/2\n",
      "     Increment computation\n",
      "     empirical cf computation\n",
      "     kappa selection\n",
      "     Fourier inversion\n",
      "     computation with fixed kappa: Disregarded\n",
      " Estimator 2/2\n",
      "     Increment computation\n",
      "     empirical cf computation\n",
      "     kappa selection\n",
      "     Fourier inversion\n",
      "     computation with fixed kappa: Disregarded\n",
      "Quadratic error for n=5, Delta=0.1\n",
      "         mean error:0.6509 / mean std:0.0908\n",
      "----------------------------------------------------\n",
      " CSV table setup\n",
      "--------------------\n",
      "Computation for n=5 and Delta=1\n",
      " Increments generation\n"
     ]
    },
    {
     "name": "stderr",
     "output_type": "stream",
     "text": [
      "100%|██████████| 5/5 [00:00<00:00, 46.03it/s]\n",
      "100%|██████████| 5/5 [00:00<00:00, 46.57it/s]\n"
     ]
    },
    {
     "name": "stdout",
     "output_type": "stream",
     "text": [
      " Risk computation\n",
      "########## tempered stable IV estimation ##############\n",
      "Initilizing memory\n",
      "Estimator computation\n",
      " Estimator 1/2\n",
      "     Increment computation\n",
      "     empirical cf computation\n",
      "     kappa selection\n",
      "     Fourier inversion\n",
      "     computation with fixed kappa: Disregarded\n",
      " Estimator 2/2\n",
      "     Increment computation\n",
      "     empirical cf computation\n",
      "     kappa selection\n",
      "     Fourier inversion\n",
      "     computation with fixed kappa: Disregarded\n",
      "Quadratic error for n=5, Delta=1\n",
      "         mean error:2.5113 / mean std:1.2164\n",
      "----------------------------------------------------\n",
      " CSV table setup\n"
     ]
    }
   ],
   "source": [
    "csv_path = os.path.join('inference_results_csv', 'RiskTableIV.csv')\n",
    "with open(csv_path, 'a', newline='') as f:\n",
    "    writer = csv.writer(f)\n",
    "    writer.writerows([[\"process\",\"n\",\"Delta\",\"alpha\",\"P\",\"Q\",\"A\",\"B\",\"kappa_mean\",\"kappa_std\",\"risk_mean\",\"risk_std\"]])\n",
    "for n in n_tab:\n",
    "    for Delta in Delta_tab:\n",
    "        print(\"-\"*20)\n",
    "        print(\"Computation for n={} and Delta={}\".format(n,Delta))\n",
    "        print(\" Increments generation\")\n",
    "        incr_tab=tempered_stable(n,Delta,alpha,P,Q,A,B,drift,c,N,True,method='bm')\n",
    "        a,b=density_bound(Delta,title)\n",
    "        x_grid=np.linspace(a,b,1000)\n",
    "        true_density = CTS_density(x_grid,alpha,P*Delta,Q*Delta,A,B, adaptive_bound=True)\n",
    "        M,delta= bound_cf(Delta)\n",
    "        u_grid=np.arange(-M,M,delta)#np.linspace(-M,M,nM)\n",
    "        th_cf=CTS_characteristic_function(u_grid, alpha, Delta*P, Delta*Q, A, B)\n",
    "        print(\" Risk computation\")\n",
    "        adt_risk_mean,adt_risk_std,risk_mean,risk_std,adt_kappa_mean,adt_kappa_std= display_function(title,incr_tab,x_grid,true_density,th_cf,u_grid,n,Delta,N,kappa_tab,selection_level)\n",
    "        print(\" CSV table setup\")\n",
    "        with open(csv_path, 'a', newline='') as f:\n",
    "            writer = csv.writer(f)\n",
    "            writer.writerows([[title,n,Delta,alpha,P,Q,A,B,adt_kappa_mean,adt_kappa_std,adt_risk_mean,adt_risk_std]])\n"
   ]
  }
 ],
 "metadata": {
  "kernelspec": {
   "display_name": "lstable-_mbX7lSL-py3.13",
   "language": "python",
   "name": "python3"
  },
  "language_info": {
   "codemirror_mode": {
    "name": "ipython",
    "version": 3
   },
   "file_extension": ".py",
   "mimetype": "text/x-python",
   "name": "python",
   "nbconvert_exporter": "python",
   "pygments_lexer": "ipython3",
   "version": "3.13.1"
  }
 },
 "nbformat": 4,
 "nbformat_minor": 5
}
